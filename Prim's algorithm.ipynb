{
 "cells": [
  {
   "cell_type": "code",
   "execution_count": 33,
   "metadata": {},
   "outputs": [],
   "source": [
    "class node():\n",
    "    def __init__(self, name):\n",
    "        self.name = name\n",
    "        self.neighbours = []\n",
    "\n",
    "    def __str__(self):\n",
    "        x = '['\n",
    "        for i, item in enumerate(self.neighbours):\n",
    "            x += \"[{}, {}]\".format(item[0].name, item[1])\n",
    "        x += ']'\n",
    "        return x\n",
    "        \n",
    "    def add_neighbour(self, neighbour, distance):\n",
    "        self.neighbours.append([neighbour, distance])\n",
    "        \n",
    "node_names = ['A', 'B', 'C', 'D', 'E', 'F', 'G', 'H', 'I', 'J', 'K', 'L', 'M', 'N', 'O']\n",
    "neighbours = [\n",
    "        [['E', 1], ['B', 3]],                     #A\n",
    "        [['A', 3], ['E', 1], ['F', 2], ['C', 2]], #B\n",
    "        [['B', 2], ['G', 1], ['H', 3]],           #C\n",
    "        [['E', 3], ['L', 1]],                     #D\n",
    "        [['A', 1], ['B', 1], ['I', 5], ['D', 3]], #E\n",
    "        [['B', 2], ['G', 3]],                     #F\n",
    "        [['C', 1], ['F', 3], ['J', 4]],           #G\n",
    "        [['C', 3], ['K', 2], ['O', 7]],           #H\n",
    "        [['E', 5], ['J', 7], ['L', 1]],           #I\n",
    "        [['I', 7], ['G', 4], ['K', 3]],           #J\n",
    "        [['J', 3], ['H', 2], ['O', 1], ['M', 1]], #K\n",
    "        [['D', 1], ['I', 1], ['M', 2]],           #L\n",
    "        [['L', 2], ['K', 1], ['N', 3]],           #M\n",
    "        [['M', 3], ['O', 2]],                     #N\n",
    "        [['H', 7], ['K', 1], ['N', 2]]            #O\n",
    "]\n",
    "\n",
    "nodes = []\n",
    "for name in node_names:\n",
    "    nodes.append(node(name))\n",
    "\n",
    "for i, item in enumerate(nodes):\n",
    "    for e, elem in enumerate(neighbours[i]):\n",
    "        for node in nodes:\n",
    "            if node.name == elem[0]:\n",
    "                item.add_neighbour(node, elem[1])"
   ]
  },
  {
   "cell_type": "code",
   "execution_count": 34,
   "metadata": {},
   "outputs": [],
   "source": [
    "def extract_min(Q, key):\n",
    "    min_value = float('Inf')\n",
    "    min_node = None\n",
    "    idx_to_del = None\n",
    "    for i, item in enumerate(Q):\n",
    "        if min_value > key[item.name]:\n",
    "            min_value = key[item.name]\n",
    "            min_node = item\n",
    "            idx_to_del = i\n",
    "    \n",
    "    del Q[idx_to_del]\n",
    "    return min_node\n",
    "    \n",
    "def prim(nodes):\n",
    "    key = dict()\n",
    "    pi = dict()\n",
    "    for i, item in enumerate(nodes):\n",
    "        key[item.name] = float('Inf')\n",
    "        pi[item.name] = None\n",
    "\n",
    "    key['O'] = 0\n",
    "    Q = nodes\n",
    "    removed = []\n",
    "    while Q != []:\n",
    "        u = extract_min(Q, key)\n",
    "        removed.append(u.name)\n",
    "        for i, item in enumerate(u.neighbours):\n",
    "            if (item[0].name not in removed) and (item[1] < key[item[0].name]):\n",
    "                pi[item[0].name] = u.name\n",
    "                key[item[0].name] = item[1]\n",
    "    return key, pi\n",
    "\n"
   ]
  },
  {
   "cell_type": "code",
   "execution_count": 35,
   "metadata": {},
   "outputs": [
    {
     "name": "stdout",
     "output_type": "stream",
     "text": [
      "From E to A - 1\n",
      "From C to B - 2\n",
      "From H to C - 3\n",
      "From L to D - 1\n",
      "From B to E - 1\n",
      "From B to F - 2\n",
      "From C to G - 1\n",
      "From K to H - 2\n",
      "From L to I - 1\n",
      "From K to J - 3\n",
      "From O to K - 1\n",
      "From M to L - 2\n",
      "From K to M - 1\n",
      "From O to N - 2\n",
      "From None to O - 0\n"
     ]
    }
   ],
   "source": [
    "key, pi = prim(nodes)\n",
    "\n",
    "for i, item in enumerate(key.keys()):\n",
    "    print(\"From {} to {} - {}\" .format(pi[item], item, key[item]))"
   ]
  }
 ],
 "metadata": {
  "kernelspec": {
   "display_name": "Python 3",
   "language": "python",
   "name": "python3"
  },
  "language_info": {
   "codemirror_mode": {
    "name": "ipython",
    "version": 3
   },
   "file_extension": ".py",
   "mimetype": "text/x-python",
   "name": "python",
   "nbconvert_exporter": "python",
   "pygments_lexer": "ipython3",
   "version": "3.6.8"
  }
 },
 "nbformat": 4,
 "nbformat_minor": 2
}
